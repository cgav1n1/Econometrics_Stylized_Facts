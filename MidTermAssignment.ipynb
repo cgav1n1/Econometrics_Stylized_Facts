{
 "cells": [
  {
   "cell_type": "markdown",
   "metadata": {},
   "source": []
  },
  {
   "cell_type": "markdown",
   "id": "7f14488a",
   "metadata": {},
   "source": [
    "# **Python assignment**"
   ]
  },
  {
   "cell_type": "code",
   "execution_count": 1,
   "id": "0713259f",
   "metadata": {},
   "outputs": [],
   "source": [
    "# ---------------------------------------------------------\n",
    "# File Name: MidTermAssignment.py\n",
    "# Description: \n",
    "# Autor: Prat Paul; Gavini Charles; Fournier Justin; Blanc Mathieu\n",
    "# Creation Date: 2024-10-16\n",
    "# Version: 1.0\n",
    "# ---------------------------------------------------------"
   ]
  },
  {
   "cell_type": "markdown",
   "id": "d2b98cc0",
   "metadata": {},
   "source": [
    "Installing yahoofinance"
   ]
  },
  {
   "cell_type": "code",
   "execution_count": 2,
   "id": "3cab7021",
   "metadata": {},
   "outputs": [],
   "source": [
    "#pip install yfinance"
   ]
  },
  {
   "cell_type": "markdown",
   "id": "2603d659",
   "metadata": {},
   "source": [
    "Installing statsmodels"
   ]
  },
  {
   "cell_type": "code",
   "execution_count": 3,
   "id": "b3ccd5eb",
   "metadata": {},
   "outputs": [],
   "source": [
    "#pip install statsmodels"
   ]
  },
  {
   "cell_type": "code",
   "execution_count": 4,
   "id": "d82ab9bc",
   "metadata": {},
   "outputs": [],
   "source": [
    "#importations\n",
    "import numpy as np\n",
    "import pandas as pd\n",
    "import yfinance as yf\n",
    "import matplotlib.pyplot as plt\n",
    "import matplotlib.dates as mdates\n",
    "from statsmodels.graphics.tsaplots import plot_acf # import this function from this submodule\n",
    "import statsmodels.api as sm\n",
    "import scipy.stats as stats\n",
    "from scipy.stats import gaussian_kde, norm, iqr, skew, kurtosis, jarque_bera, kstest, anderson\n",
    "from statsmodels.stats.diagnostic import lilliefors\n",
    "import scipy.signal as ss\n",
    "import pylab"
   ]
  },
  {
   "cell_type": "markdown",
   "id": "2647547a",
   "metadata": {},
   "source": [
    "First pandas dataframe of Nvidia stocks"
   ]
  },
  {
   "cell_type": "code",
   "execution_count": 13,
   "id": "ab583a7d",
   "metadata": {},
   "outputs": [
    {
     "name": "stderr",
     "output_type": "stream",
     "text": [
      "[*********************100%***********************]  1 of 1 completed\n"
     ]
    },
    {
     "data": {
      "text/html": [
       "<div>\n",
       "<style scoped>\n",
       "    .dataframe tbody tr th:only-of-type {\n",
       "        vertical-align: middle;\n",
       "    }\n",
       "\n",
       "    .dataframe tbody tr th {\n",
       "        vertical-align: top;\n",
       "    }\n",
       "\n",
       "    .dataframe thead th {\n",
       "        text-align: right;\n",
       "    }\n",
       "</style>\n",
       "<table border=\"1\" class=\"dataframe\">\n",
       "  <thead>\n",
       "    <tr style=\"text-align: right;\">\n",
       "      <th></th>\n",
       "      <th>Open</th>\n",
       "      <th>High</th>\n",
       "      <th>Low</th>\n",
       "      <th>Close</th>\n",
       "      <th>Adj Close</th>\n",
       "      <th>Volume</th>\n",
       "    </tr>\n",
       "    <tr>\n",
       "      <th>Date</th>\n",
       "      <th></th>\n",
       "      <th></th>\n",
       "      <th></th>\n",
       "      <th></th>\n",
       "      <th></th>\n",
       "      <th></th>\n",
       "    </tr>\n",
       "  </thead>\n",
       "  <tbody>\n",
       "    <tr>\n",
       "      <th>1999-09-16</th>\n",
       "      <td>0.051563</td>\n",
       "      <td>0.052083</td>\n",
       "      <td>0.050260</td>\n",
       "      <td>0.050911</td>\n",
       "      <td>0.046693</td>\n",
       "      <td>158112000</td>\n",
       "    </tr>\n",
       "    <tr>\n",
       "      <th>1999-09-17</th>\n",
       "      <td>0.050586</td>\n",
       "      <td>0.051042</td>\n",
       "      <td>0.048958</td>\n",
       "      <td>0.050781</td>\n",
       "      <td>0.046574</td>\n",
       "      <td>171648000</td>\n",
       "    </tr>\n",
       "    <tr>\n",
       "      <th>1999-09-20</th>\n",
       "      <td>0.049870</td>\n",
       "      <td>0.050521</td>\n",
       "      <td>0.048958</td>\n",
       "      <td>0.048958</td>\n",
       "      <td>0.044902</td>\n",
       "      <td>229104000</td>\n",
       "    </tr>\n",
       "    <tr>\n",
       "      <th>1999-09-21</th>\n",
       "      <td>0.047917</td>\n",
       "      <td>0.048177</td>\n",
       "      <td>0.043620</td>\n",
       "      <td>0.044271</td>\n",
       "      <td>0.040603</td>\n",
       "      <td>737328000</td>\n",
       "    </tr>\n",
       "    <tr>\n",
       "      <th>1999-09-22</th>\n",
       "      <td>0.044271</td>\n",
       "      <td>0.045573</td>\n",
       "      <td>0.041667</td>\n",
       "      <td>0.045313</td>\n",
       "      <td>0.041559</td>\n",
       "      <td>375984000</td>\n",
       "    </tr>\n",
       "  </tbody>\n",
       "</table>\n",
       "</div>"
      ],
      "text/plain": [
       "                Open      High       Low     Close  Adj Close     Volume\n",
       "Date                                                                    \n",
       "1999-09-16  0.051563  0.052083  0.050260  0.050911   0.046693  158112000\n",
       "1999-09-17  0.050586  0.051042  0.048958  0.050781   0.046574  171648000\n",
       "1999-09-20  0.049870  0.050521  0.048958  0.048958   0.044902  229104000\n",
       "1999-09-21  0.047917  0.048177  0.043620  0.044271   0.040603  737328000\n",
       "1999-09-22  0.044271  0.045573  0.041667  0.045313   0.041559  375984000"
      ]
     },
     "execution_count": 13,
     "metadata": {},
     "output_type": "execute_result"
    }
   ],
   "source": [
    "# Importing Nvidia stock from yahoo finance\n",
    "Nvidia = yf.download(\"NVDA\", start=\"1999-09-16\", end=\"2024-10-16\")\n",
    "Nvidia.head()"
   ]
  },
  {
   "cell_type": "code",
   "execution_count": 21,
   "id": "67b3645f",
   "metadata": {},
   "outputs": [
    {
     "name": "stderr",
     "output_type": "stream",
     "text": [
      "/var/folders/5r/ft807c7n1ngd3fpt2_gwsg0m0000gn/T/ipykernel_58295/210123375.py:1: FutureWarning: In future versions `DataFrame.to_latex` is expected to utilise the base implementation of `Styler.to_latex` for formatting and rendering. The arguments signature may therefore change. It is recommended instead to use `DataFrame.style.to_latex` which also contains additional functionality.\n",
      "  latex_table = Nvidia.head().to_latex(index=True)\n"
     ]
    }
   ],
   "source": [
    "latex_table = Nvidia.head().to_latex(index=True)\n",
    "with open(\"Latex/table.tex\", \"w\") as file:\n",
    "    file.write(latex_table)"
   ]
  },
  {
   "cell_type": "markdown",
   "id": "5c155da2",
   "metadata": {},
   "source": [
    "Cheking timestamp of 25 years"
   ]
  },
  {
   "cell_type": "code",
   "execution_count": 7,
   "id": "a3abcf21",
   "metadata": {},
   "outputs": [
    {
     "name": "stdout",
     "output_type": "stream",
     "text": [
      "2024-10-15 00:00:00 1999-09-16 00:00:00\n"
     ]
    },
    {
     "data": {
      "text/plain": [
       "'\\nTotal_duration=Nvidia.index[-1]-Nvidia.index[0]\\nprint(Total_duration)\\ndelta=pd.to_timedelta(Total_duration)\\nyears= delta/pd.Timedelta(days=365.25)\\nprint(years)\\nprint(Nvidia.index)\\n'"
      ]
     },
     "execution_count": 7,
     "metadata": {},
     "output_type": "execute_result"
    }
   ],
   "source": [
    "print(Nvidia.index[-1],Nvidia.index[0])\n",
    "\"\"\"\n",
    "Total_duration=Nvidia.index[-1]-Nvidia.index[0]\n",
    "print(Total_duration)\n",
    "delta=pd.to_timedelta(Total_duration)\n",
    "years= delta/pd.Timedelta(days=365.25)\n",
    "print(years)\n",
    "print(Nvidia.index)\n",
    "\"\"\""
   ]
  },
  {
   "cell_type": "code",
   "execution_count": 8,
   "id": "73e68bc6",
   "metadata": {},
   "outputs": [
    {
     "data": {
      "text/plain": [
       "Date\n",
       "1999-09-16    0.046693\n",
       "1999-09-17    0.046574\n",
       "1999-09-20    0.044902\n",
       "1999-09-21    0.040603\n",
       "1999-09-22    0.041559\n",
       "Name: Adj Close, dtype: float64"
      ]
     },
     "execution_count": 8,
     "metadata": {},
     "output_type": "execute_result"
    }
   ],
   "source": [
    "Nvidia.index\n",
    "#extracting adjusted\n",
    "Nv_adj=Nvidia['Adj Close']\n",
    "Nv_adj.index = Nvidia.index\n",
    "\n",
    "#display first 5 rows, now it is a pandas series instead of a dataframe\n",
    "Nv_adj.head()"
   ]
  },
  {
   "cell_type": "code",
   "execution_count": 9,
   "id": "3ec1c9e8",
   "metadata": {},
   "outputs": [],
   "source": [
    "#calculating return\n",
    "\n"
   ]
  },
  {
   "cell_type": "code",
   "execution_count": 12,
   "id": "052e7d31",
   "metadata": {},
   "outputs": [],
   "source": [
    "# Define the content for the code appendix\n",
    "code_content = r\"\"\"\n",
    "\\section{Appendix: Python Code}\n",
    "Below is the Python code used in this analysis.\n",
    "\n",
    "\\begin{lstlisting}[language=Python, caption=Python Code for Analysis]\n",
    "# Python code example\n",
    "import numpy as np\n",
    "import pandas as pd\n",
    "\n",
    "def analyze_data(data):\n",
    "    mean = np.mean(data)\n",
    "    std_dev = np.std(data)\n",
    "    return mean, std_dev\n",
    "\n",
    "data = [1, 2, 3, 4, 5]\n",
    "mean, std_dev = analyze_data(data)\n",
    "print(f\"Mean: {mean}, Standard Deviation: {std_dev}\")\n",
    "\\end{lstlisting}\n",
    "\"\"\"\n",
    "\n",
    "# Write to the 'code_appendix.tex' file\n",
    "with open(\"Latex/code_appendix.tex\", \"w\") as file:\n",
    "    file.write(code_content)"
   ]
  }
 ],
 "metadata": {
  "kernelspec": {
   "display_name": "Python 3",
   "language": "python",
   "name": "python3"
  },
  "language_info": {
   "codemirror_mode": {
    "name": "ipython",
    "version": 3
   },
   "file_extension": ".py",
   "mimetype": "text/x-python",
   "name": "python",
   "nbconvert_exporter": "python",
   "pygments_lexer": "ipython3",
   "version": "3.9.13"
  }
 },
 "nbformat": 4,
 "nbformat_minor": 5
}
