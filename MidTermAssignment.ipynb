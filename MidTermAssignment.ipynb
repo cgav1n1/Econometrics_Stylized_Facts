{
 "cells": [
  {
   "cell_type": "markdown",
   "id": "7f14488a",
   "metadata": {},
   "source": [
    "Python assignment"
   ]
  },
  {
   "cell_type": "code",
   "execution_count": 3,
   "id": "0713259f",
   "metadata": {},
   "outputs": [],
   "source": [
    "# ---------------------------------------------------------\n",
    "# File Name: MidTermAssignment.py\n",
    "# Description: \n",
    "# Autor: Prat Paul; Gavini Charles; Fournier Justin; Blanc Mathieu\n",
    "# Creation Date: 2024-10-16\n",
    "# Version: 1.0\n",
    "# ---------------------------------------------------------"
   ]
  },
  {
   "cell_type": "markdown",
   "id": "b234b32d",
   "metadata": {},
   "source": []
  }
 ],
 "metadata": {
  "kernelspec": {
   "display_name": "Python 3 (ipykernel)",
   "language": "python",
   "name": "python3"
  },
  "language_info": {
   "codemirror_mode": {
    "name": "ipython",
    "version": 3
   },
   "file_extension": ".py",
   "mimetype": "text/x-python",
   "name": "python",
   "nbconvert_exporter": "python",
   "pygments_lexer": "ipython3",
   "version": "3.9.13"
  }
 },
 "nbformat": 4,
 "nbformat_minor": 5
}
