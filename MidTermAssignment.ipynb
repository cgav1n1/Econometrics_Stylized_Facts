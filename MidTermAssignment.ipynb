{
 "cells": [
  {
   "cell_type": "markdown",
   "metadata": {},
   "source": []
  },
  {
   "cell_type": "markdown",
   "id": "7f14488a",
   "metadata": {},
   "source": [
    "# **Python assignment**"
   ]
  },
  {
   "cell_type": "code",
   "execution_count": 30,
   "id": "0713259f",
   "metadata": {},
   "outputs": [],
   "source": [
    "# ---------------------------------------------------------\n",
    "# File Name: MidTermAssignment.py\n",
    "# Description: \n",
    "# Autor: Prat Paul; Gavini Charles; Fournier Justin; Blanc Mathieu\n",
    "# Creation Date: 2024-10-16\n",
    "# Version: 1.0\n",
    "# ---------------------------------------------------------"
   ]
  },
  {
   "cell_type": "markdown",
   "id": "d2b98cc0",
   "metadata": {},
   "source": [
    "Installing yahoofinance"
   ]
  },
  {
   "cell_type": "code",
   "execution_count": 31,
   "id": "3cab7021",
   "metadata": {},
   "outputs": [],
   "source": [
    "#pip install yfinance"
   ]
  },
  {
   "cell_type": "markdown",
   "id": "2603d659",
   "metadata": {},
   "source": [
    "Installing statsmodels"
   ]
  },
  {
   "cell_type": "code",
   "execution_count": 32,
   "id": "b3ccd5eb",
   "metadata": {},
   "outputs": [],
   "source": [
    "#pip install statsmodels"
   ]
  },
  {
   "cell_type": "code",
   "execution_count": 33,
   "id": "d82ab9bc",
   "metadata": {},
   "outputs": [],
   "source": [
    "#importations\n",
    "import numpy as np\n",
    "import pandas as pd\n",
    "import yfinance as yf\n",
    "import matplotlib.pyplot as plt\n",
    "import matplotlib.dates as mdates\n",
    "from statsmodels.graphics.tsaplots import plot_acf # import this function from this submodule\n",
    "import statsmodels.api as sm\n",
    "import scipy.stats as stats\n",
    "from scipy.stats import gaussian_kde, norm, iqr, skew, kurtosis, jarque_bera, kstest, anderson\n",
    "from statsmodels.stats.diagnostic import lilliefors\n",
    "import scipy.signal as ss\n",
    "import pylab"
   ]
  },
  {
   "cell_type": "markdown",
   "id": "2647547a",
   "metadata": {},
   "source": [
    "# *First pandas dataframe of Nvidia stocks*"
   ]
  },
  {
   "cell_type": "code",
   "execution_count": 88,
   "id": "ab583a7d",
   "metadata": {},
   "outputs": [
    {
     "name": "stderr",
     "output_type": "stream",
     "text": [
      "[*********************100%***********************]  1 of 1 completed\n"
     ]
    },
    {
     "data": {
      "text/html": [
       "<div>\n",
       "<style scoped>\n",
       "    .dataframe tbody tr th:only-of-type {\n",
       "        vertical-align: middle;\n",
       "    }\n",
       "\n",
       "    .dataframe tbody tr th {\n",
       "        vertical-align: top;\n",
       "    }\n",
       "\n",
       "    .dataframe thead th {\n",
       "        text-align: right;\n",
       "    }\n",
       "</style>\n",
       "<table border=\"1\" class=\"dataframe\">\n",
       "  <thead>\n",
       "    <tr style=\"text-align: right;\">\n",
       "      <th></th>\n",
       "      <th>Open</th>\n",
       "      <th>High</th>\n",
       "      <th>Low</th>\n",
       "      <th>Close</th>\n",
       "      <th>Adj Close</th>\n",
       "      <th>Volume</th>\n",
       "    </tr>\n",
       "    <tr>\n",
       "      <th>Date</th>\n",
       "      <th></th>\n",
       "      <th></th>\n",
       "      <th></th>\n",
       "      <th></th>\n",
       "      <th></th>\n",
       "      <th></th>\n",
       "    </tr>\n",
       "  </thead>\n",
       "  <tbody>\n",
       "    <tr>\n",
       "      <th>1999-01-22</th>\n",
       "      <td>0.043750</td>\n",
       "      <td>0.048828</td>\n",
       "      <td>0.038802</td>\n",
       "      <td>0.041016</td>\n",
       "      <td>0.037618</td>\n",
       "      <td>2714688000</td>\n",
       "    </tr>\n",
       "    <tr>\n",
       "      <th>1999-01-25</th>\n",
       "      <td>0.044271</td>\n",
       "      <td>0.045833</td>\n",
       "      <td>0.041016</td>\n",
       "      <td>0.045313</td>\n",
       "      <td>0.041559</td>\n",
       "      <td>510480000</td>\n",
       "    </tr>\n",
       "    <tr>\n",
       "      <th>1999-01-26</th>\n",
       "      <td>0.045833</td>\n",
       "      <td>0.046745</td>\n",
       "      <td>0.041146</td>\n",
       "      <td>0.041797</td>\n",
       "      <td>0.038334</td>\n",
       "      <td>343200000</td>\n",
       "    </tr>\n",
       "    <tr>\n",
       "      <th>1999-01-27</th>\n",
       "      <td>0.041927</td>\n",
       "      <td>0.042969</td>\n",
       "      <td>0.039583</td>\n",
       "      <td>0.041667</td>\n",
       "      <td>0.038215</td>\n",
       "      <td>244368000</td>\n",
       "    </tr>\n",
       "    <tr>\n",
       "      <th>1999-01-28</th>\n",
       "      <td>0.041667</td>\n",
       "      <td>0.041927</td>\n",
       "      <td>0.041276</td>\n",
       "      <td>0.041536</td>\n",
       "      <td>0.038095</td>\n",
       "      <td>227520000</td>\n",
       "    </tr>\n",
       "  </tbody>\n",
       "</table>\n",
       "</div>"
      ],
      "text/plain": [
       "                Open      High       Low     Close  Adj Close      Volume\n",
       "Date                                                                     \n",
       "1999-01-22  0.043750  0.048828  0.038802  0.041016   0.037618  2714688000\n",
       "1999-01-25  0.044271  0.045833  0.041016  0.045313   0.041559   510480000\n",
       "1999-01-26  0.045833  0.046745  0.041146  0.041797   0.038334   343200000\n",
       "1999-01-27  0.041927  0.042969  0.039583  0.041667   0.038215   244368000\n",
       "1999-01-28  0.041667  0.041927  0.041276  0.041536   0.038095   227520000"
      ]
     },
     "execution_count": 88,
     "metadata": {},
     "output_type": "execute_result"
    }
   ],
   "source": [
    "# Importing Nvidia stock from yahoo finance\n",
    "Nvidia = yf.download(\"NVDA\", start=\"1999-01-21\", end=\"2024-10-16\")\n",
    "Nvidia.head()"
   ]
  },
  {
   "cell_type": "code",
   "execution_count": 35,
   "id": "319333f8",
   "metadata": {},
   "outputs": [],
   "source": [
    "#pip install perfplot"
   ]
  },
  {
   "cell_type": "code",
   "execution_count": 37,
   "id": "67b3645f",
   "metadata": {},
   "outputs": [
    {
     "name": "stderr",
     "output_type": "stream",
     "text": [
      "/var/folders/5r/ft807c7n1ngd3fpt2_gwsg0m0000gn/T/ipykernel_58295/210123375.py:1: FutureWarning: In future versions `DataFrame.to_latex` is expected to utilise the base implementation of `Styler.to_latex` for formatting and rendering. The arguments signature may therefore change. It is recommended instead to use `DataFrame.style.to_latex` which also contains additional functionality.\n",
      "  latex_table = Nvidia.head().to_latex(index=True)\n"
     ]
    }
   ],
   "source": [
    "latex_table = Nvidia.head().to_latex(index=True)\n",
    "with open(\"Latex/table.tex\", \"w\") as file:\n",
    "    file.write(latex_table)"
   ]
  },
  {
   "cell_type": "markdown",
   "id": "5c155da2",
   "metadata": {},
   "source": [
    "# *Cheking if timestamp is 25 years*"
   ]
  },
  {
   "cell_type": "code",
   "execution_count": 92,
   "id": "a3abcf21",
   "metadata": {},
   "outputs": [
    {
     "name": "stdout",
     "output_type": "stream",
     "text": [
      "Nvidia data range is:  1999-01-22 00:00:00 2024-10-15 00:00:00\n",
      "Missing Days count is:  238\n",
      "missing dates DatetimeIndex(['1999-02-15', '1999-04-02', '1999-05-31', '1999-07-05',\n",
      "               '1999-09-06', '1999-11-25', '1999-12-24', '2000-01-17',\n",
      "               '2000-02-21', '2000-04-21',\n",
      "               ...\n",
      "               '2023-11-23', '2023-12-25', '2024-01-01', '2024-01-15',\n",
      "               '2024-02-19', '2024-03-29', '2024-05-27', '2024-06-19',\n",
      "               '2024-07-04', '2024-09-02'],\n",
      "              dtype='datetime64[ns]', length=238, freq=None)\n"
     ]
    }
   ],
   "source": [
    "print('Nvidia data range is: ',Nvidia.index[0],Nvidia.index[-1])\n",
    "\n",
    "#trying to find gaps\n",
    "\n",
    "#First create a dataframe for a fullrange of our index, without any gap with the following formula: \n",
    "full_range = pd.date_range(start=Nvidia.index.min(), end=Nvidia.index.max(), freq='B')\n",
    "\n",
    "#Then compare to our dataframe: \n",
    "\n",
    "MissingDays=full_range.difference(Nvidia.index)\n",
    "\n",
    "#Print the count and the detail preview:\n",
    "print('Missing Days count is: ',len(MissingDays))\n",
    "print(\"missing dates\",MissingDays)\n",
    "\n",
    "#We can see that data have ponctual gaps, no issue here we can still use it"
   ]
  },
  {
   "cell_type": "code",
   "execution_count": 39,
   "id": "73e68bc6",
   "metadata": {},
   "outputs": [
    {
     "data": {
      "text/plain": [
       "Date\n",
       "1999-01-22    0.037618\n",
       "1999-01-25    0.041559\n",
       "1999-01-26    0.038334\n",
       "1999-01-27    0.038215\n",
       "1999-01-28    0.038095\n",
       "Name: Adj Close, dtype: float64"
      ]
     },
     "execution_count": 39,
     "metadata": {},
     "output_type": "execute_result"
    }
   ],
   "source": [
    "Nvidia.index\n",
    "#extracting adjusted\n",
    "Nv_adj=Nvidia['Adj Close']\n",
    "Nv_adj.index = Nvidia.index\n",
    "\n",
    "#display first 5 rows, now it is a pandas series instead of a dataframe\n",
    "Nv_adj.head()"
   ]
  },
  {
   "cell_type": "markdown",
   "id": "0796801f",
   "metadata": {},
   "source": [
    "For the possible gaps in data, we plot them here"
   ]
  },
  {
   "cell_type": "code",
   "execution_count": 123,
   "id": "d9ea1fdf",
   "metadata": {},
   "outputs": [
    {
     "data": {
      "image/png": "[encoded data removed]",
      "text/plain": [
       "<Figure size 1000x200 with 1 Axes>"
      ]
     },
     "metadata": {},
     "output_type": "display_data"
    }
   ],
   "source": [
    "#plot the missing dates\n",
    "full_data = Nvidia.reindex(full_range)\n",
    "\n",
    "#zoom in over one year\n",
    "start_date = \"2010-01-01\"\n",
    "end_date = \"2011-01-01\"\n",
    "filtered_full_range = full_range[(full_range >= start_date) & (full_range <= end_date)]\n",
    "filtered_missing_dates = MissingDays[(MissingDays >= start_date) & (MissingDays <= end_date)]\n",
    "\n",
    "plt.figure(figsize=(10, 2))\n",
    "\n",
    "# Plot all dates in the filtered range with gray dots (showing the full timeline for this period)\n",
    "plt.plot(filtered_full_range, [1] * len(filtered_full_range), 'o', color='lightgray', markersize=5, label=\"Full Date Range\")\n",
    "\n",
    "# Overlay red dots only on the missing dates within the filtered range\n",
    "plt.plot(filtered_missing_dates, [1] * len(filtered_missing_dates), 'ro', markersize=5, label=\"Missing Dates\")\n",
    "\n",
    "# Customize plot\n",
    "plt.title(\"Missing Dates in Full Date Range (2010 to 2011)\",color='black')\n",
    "plt.xlabel(\"Date\",color='black')\n",
    "plt.yticks([])  # Hide y-axis labels for clarity\n",
    "plt.xticks(rotation=45,color='black')\n",
    "plt.legend(facecolor='white', edgecolor='black', framealpha=1, fontsize=10)\n",
    "\n",
    "#Saving the plot in pdf format\n",
    "plt.savefig('Latex/Img/MissingDates(2010_to_2011).pdf', format='pdf', bbox_inches='tight')\n",
    "\n",
    "plt.show()\n"
   ]
  },
  {
   "cell_type": "markdown",
   "id": "0cf8f9bf",
   "metadata": {},
   "source": [
    "# *Calculating returns*"
   ]
  },
  {
   "cell_type": "code",
   "execution_count": 1,
   "id": "3ec1c9e8",
   "metadata": {},
   "outputs": [
    {
     "data": {
      "text/plain": [
       "'\\nTODO\\n'"
      ]
     },
     "execution_count": 1,
     "metadata": {},
     "output_type": "execute_result"
    }
   ],
   "source": [
    "#calculating return\n",
    "\n",
    "\"\"\"\n",
    "TODO\n",
    "\"\"\""
   ]
  },
  {
   "cell_type": "code",
   "execution_count": null,
   "id": "beacb649",
   "metadata": {},
   "outputs": [],
   "source": []
  },
  {
   "cell_type": "markdown",
   "id": "a2b05a58",
   "metadata": {},
   "source": [
    "Adding python code to the latex document in the appendix part"
   ]
  },
  {
   "cell_type": "code",
   "execution_count": 41,
   "id": "052e7d31",
   "metadata": {},
   "outputs": [],
   "source": [
    "#Test for incorporating python code into the appendix section in the latex document\n",
    "code_content = r\"\"\"\n",
    "\\section{Appendix: Python Code}\n",
    "Below is the Python code used in this analysis.\n",
    "\n",
    "\\begin{lstlisting}[language=Python, caption=Python Code for Analysis]\n",
    "# Python code example\n",
    "import numpy as np\n",
    "import pandas as pd\n",
    "\n",
    "def analyze_data(data):\n",
    "    mean = np.mean(data)\n",
    "    std_dev = np.std(data)\n",
    "    return mean, std_dev\n",
    "\n",
    "data = [1, 2, 3, 4, 5]\n",
    "mean, std_dev = analyze_data(data)\n",
    "print(f\"Mean: {mean}, Standard Deviation: {std_dev}\")\n",
    "\\end{lstlisting}\n",
    "\"\"\"\n",
    "\n",
    "# Write to the 'code_appendix.tex' file\n",
    "with open(\"Latex/code_appendix.tex\", \"w\") as file:\n",
    "    file.write(code_content)"
   ]
  }
 ],
 "metadata": {
  "kernelspec": {
   "display_name": "Python 3",
   "language": "python",
   "name": "python3"
  },
  "language_info": {
   "codemirror_mode": {
    "name": "ipython",
    "version": 3
   },
   "file_extension": ".py",
   "mimetype": "text/x-python",
   "name": "python",
   "nbconvert_exporter": "python",
   "pygments_lexer": "ipython3",
   "version": "3.9.13"
  }
 },
 "nbformat": 4,
 "nbformat_minor": 5
}
