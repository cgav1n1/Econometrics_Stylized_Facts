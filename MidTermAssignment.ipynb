{
 "cells": [
  {
   "cell_type": "markdown",
   "id": "7f14488a",
   "metadata": {},
   "source": [
    "# **Python assignment**"
   ]
  },
  {
   "cell_type": "code",
   "execution_count": 3,
   "id": "0713259f",
   "metadata": {},
   "outputs": [],
   "source": [
    "# ---------------------------------------------------------\n",
    "# File Name: MidTermAssignment.py\n",
    "# Description: \n",
    "# Autor: Prat Paul; Gavini Charles; Fournier Justin; Blanc Mathieu\n",
    "# Creation Date: 2024-10-16\n",
    "# Version: 1.0\n",
    "# ---------------------------------------------------------"
   ]
  },
  {
   "cell_type": "markdown",
   "id": "d2b98cc0",
   "metadata": {},
   "source": [
    "Installing yahoofinance"
   ]
  },
  {
   "cell_type": "code",
   "execution_count": 2,
   "id": "3cab7021",
   "metadata": {},
   "outputs": [
    {
     "name": "stdout",
     "output_type": "stream",
     "text": [
      "Requirement already satisfied: yfinance in ./opt/anaconda3/lib/python3.9/site-packages (0.2.44)\n",
      "Requirement already satisfied: pandas>=1.3.0 in ./opt/anaconda3/lib/python3.9/site-packages (from yfinance) (1.4.4)\n",
      "Requirement already satisfied: platformdirs>=2.0.0 in ./opt/anaconda3/lib/python3.9/site-packages (from yfinance) (3.11.0)\n",
      "Requirement already satisfied: pytz>=2022.5 in ./opt/anaconda3/lib/python3.9/site-packages (from yfinance) (2024.2)\n",
      "Requirement already satisfied: peewee>=3.16.2 in ./opt/anaconda3/lib/python3.9/site-packages (from yfinance) (3.17.6)\n",
      "Requirement already satisfied: requests>=2.31 in ./opt/anaconda3/lib/python3.9/site-packages (from yfinance) (2.31.0)\n",
      "Requirement already satisfied: lxml>=4.9.1 in ./opt/anaconda3/lib/python3.9/site-packages (from yfinance) (4.9.1)\n",
      "Requirement already satisfied: frozendict>=2.3.4 in ./opt/anaconda3/lib/python3.9/site-packages (from yfinance) (2.4.5)\n",
      "Requirement already satisfied: numpy>=1.16.5 in ./opt/anaconda3/lib/python3.9/site-packages (from yfinance) (1.21.5)\n",
      "Requirement already satisfied: beautifulsoup4>=4.11.1 in ./opt/anaconda3/lib/python3.9/site-packages (from yfinance) (4.12.3)\n",
      "Requirement already satisfied: multitasking>=0.0.7 in ./opt/anaconda3/lib/python3.9/site-packages (from yfinance) (0.0.11)\n",
      "Requirement already satisfied: html5lib>=1.1 in ./opt/anaconda3/lib/python3.9/site-packages (from yfinance) (1.1)\n",
      "Requirement already satisfied: soupsieve>1.2 in ./opt/anaconda3/lib/python3.9/site-packages (from beautifulsoup4>=4.11.1->yfinance) (2.3.1)\n",
      "Requirement already satisfied: six>=1.9 in ./opt/anaconda3/lib/python3.9/site-packages (from html5lib>=1.1->yfinance) (1.16.0)\n",
      "Requirement already satisfied: webencodings in ./opt/anaconda3/lib/python3.9/site-packages (from html5lib>=1.1->yfinance) (0.5.1)\n",
      "Requirement already satisfied: python-dateutil>=2.8.1 in ./opt/anaconda3/lib/python3.9/site-packages (from pandas>=1.3.0->yfinance) (2.8.2)\n",
      "Requirement already satisfied: idna<4,>=2.5 in ./opt/anaconda3/lib/python3.9/site-packages (from requests>=2.31->yfinance) (3.3)\n",
      "Requirement already satisfied: certifi>=2017.4.17 in ./opt/anaconda3/lib/python3.9/site-packages (from requests>=2.31->yfinance) (2022.9.24)\n",
      "Requirement already satisfied: charset-normalizer<4,>=2 in ./opt/anaconda3/lib/python3.9/site-packages (from requests>=2.31->yfinance) (2.0.4)\n",
      "Requirement already satisfied: urllib3<3,>=1.21.1 in ./opt/anaconda3/lib/python3.9/site-packages (from requests>=2.31->yfinance) (2.2.1)\n",
      "Note: you may need to restart the kernel to use updated packages.\n"
     ]
    }
   ],
   "source": [
    "#pip install yfinance"
   ]
  },
  {
   "cell_type": "markdown",
   "id": "2603d659",
   "metadata": {},
   "source": [
    "Installing statsmodels"
   ]
  },
  {
   "cell_type": "code",
   "execution_count": 3,
   "id": "b3ccd5eb",
   "metadata": {},
   "outputs": [
    {
     "name": "stdout",
     "output_type": "stream",
     "text": [
      "Requirement already satisfied: statsmodels in ./opt/anaconda3/lib/python3.9/site-packages (0.13.2)\n",
      "Requirement already satisfied: numpy>=1.17 in ./opt/anaconda3/lib/python3.9/site-packages (from statsmodels) (1.21.5)\n",
      "Requirement already satisfied: pandas>=0.25 in ./opt/anaconda3/lib/python3.9/site-packages (from statsmodels) (1.4.4)\n",
      "Requirement already satisfied: patsy>=0.5.2 in ./opt/anaconda3/lib/python3.9/site-packages (from statsmodels) (0.5.2)\n",
      "Requirement already satisfied: packaging>=21.3 in ./opt/anaconda3/lib/python3.9/site-packages (from statsmodels) (21.3)\n",
      "Requirement already satisfied: scipy>=1.3 in ./opt/anaconda3/lib/python3.9/site-packages (from statsmodels) (1.9.1)\n",
      "Requirement already satisfied: pyparsing!=3.0.5,>=2.0.2 in ./opt/anaconda3/lib/python3.9/site-packages (from packaging>=21.3->statsmodels) (3.0.9)\n",
      "Requirement already satisfied: python-dateutil>=2.8.1 in ./opt/anaconda3/lib/python3.9/site-packages (from pandas>=0.25->statsmodels) (2.8.2)\n",
      "Requirement already satisfied: pytz>=2020.1 in ./opt/anaconda3/lib/python3.9/site-packages (from pandas>=0.25->statsmodels) (2024.2)\n",
      "Requirement already satisfied: six in ./opt/anaconda3/lib/python3.9/site-packages (from patsy>=0.5.2->statsmodels) (1.16.0)\n",
      "Note: you may need to restart the kernel to use updated packages.\n"
     ]
    }
   ],
   "source": [
    "#pip install statsmodels"
   ]
  },
  {
   "cell_type": "code",
   "execution_count": 4,
   "id": "d82ab9bc",
   "metadata": {},
   "outputs": [],
   "source": [
    "#importations\n",
    "import numpy as np\n",
    "import pandas as pd\n",
    "import yfinance as yf\n",
    "import matplotlib.pyplot as plt\n",
    "import matplotlib.dates as mdates\n",
    "from statsmodels.graphics.tsaplots import plot_acf # import this function from this submodule\n",
    "import statsmodels.api as sm\n",
    "import scipy.stats as stats\n",
    "from scipy.stats import gaussian_kde, norm, iqr, skew, kurtosis, jarque_bera, kstest, anderson\n",
    "from statsmodels.stats.diagnostic import lilliefors\n",
    "import scipy.signal as ss\n",
    "import pylab"
   ]
  },
  {
   "cell_type": "code",
   "execution_count": 5,
   "id": "ab583a7d",
   "metadata": {},
   "outputs": [
    {
     "name": "stderr",
     "output_type": "stream",
     "text": [
      "[*********************100%***********************]  1 of 1 completed\n"
     ]
    },
    {
     "data": {
      "text/html": [
       "<div>\n",
       "<style scoped>\n",
       "    .dataframe tbody tr th:only-of-type {\n",
       "        vertical-align: middle;\n",
       "    }\n",
       "\n",
       "    .dataframe tbody tr th {\n",
       "        vertical-align: top;\n",
       "    }\n",
       "\n",
       "    .dataframe thead th {\n",
       "        text-align: right;\n",
       "    }\n",
       "</style>\n",
       "<table border=\"1\" class=\"dataframe\">\n",
       "  <thead>\n",
       "    <tr style=\"text-align: right;\">\n",
       "      <th></th>\n",
       "      <th>Open</th>\n",
       "      <th>High</th>\n",
       "      <th>Low</th>\n",
       "      <th>Close</th>\n",
       "      <th>Adj Close</th>\n",
       "      <th>Volume</th>\n",
       "    </tr>\n",
       "    <tr>\n",
       "      <th>Date</th>\n",
       "      <th></th>\n",
       "      <th></th>\n",
       "      <th></th>\n",
       "      <th></th>\n",
       "      <th></th>\n",
       "      <th></th>\n",
       "    </tr>\n",
       "  </thead>\n",
       "  <tbody>\n",
       "    <tr>\n",
       "      <th>1999-09-16</th>\n",
       "      <td>0.051563</td>\n",
       "      <td>0.052083</td>\n",
       "      <td>0.050260</td>\n",
       "      <td>0.050911</td>\n",
       "      <td>0.046693</td>\n",
       "      <td>158112000</td>\n",
       "    </tr>\n",
       "    <tr>\n",
       "      <th>1999-09-17</th>\n",
       "      <td>0.050586</td>\n",
       "      <td>0.051042</td>\n",
       "      <td>0.048958</td>\n",
       "      <td>0.050781</td>\n",
       "      <td>0.046574</td>\n",
       "      <td>171648000</td>\n",
       "    </tr>\n",
       "    <tr>\n",
       "      <th>1999-09-20</th>\n",
       "      <td>0.049870</td>\n",
       "      <td>0.050521</td>\n",
       "      <td>0.048958</td>\n",
       "      <td>0.048958</td>\n",
       "      <td>0.044902</td>\n",
       "      <td>229104000</td>\n",
       "    </tr>\n",
       "    <tr>\n",
       "      <th>1999-09-21</th>\n",
       "      <td>0.047917</td>\n",
       "      <td>0.048177</td>\n",
       "      <td>0.043620</td>\n",
       "      <td>0.044271</td>\n",
       "      <td>0.040603</td>\n",
       "      <td>737328000</td>\n",
       "    </tr>\n",
       "    <tr>\n",
       "      <th>1999-09-22</th>\n",
       "      <td>0.044271</td>\n",
       "      <td>0.045573</td>\n",
       "      <td>0.041667</td>\n",
       "      <td>0.045313</td>\n",
       "      <td>0.041559</td>\n",
       "      <td>375984000</td>\n",
       "    </tr>\n",
       "    <tr>\n",
       "      <th>...</th>\n",
       "      <td>...</td>\n",
       "      <td>...</td>\n",
       "      <td>...</td>\n",
       "      <td>...</td>\n",
       "      <td>...</td>\n",
       "      <td>...</td>\n",
       "    </tr>\n",
       "    <tr>\n",
       "      <th>2024-09-09</th>\n",
       "      <td>104.879997</td>\n",
       "      <td>106.550003</td>\n",
       "      <td>103.690002</td>\n",
       "      <td>106.470001</td>\n",
       "      <td>106.460892</td>\n",
       "      <td>273912000</td>\n",
       "    </tr>\n",
       "    <tr>\n",
       "      <th>2024-09-10</th>\n",
       "      <td>107.809998</td>\n",
       "      <td>109.400002</td>\n",
       "      <td>104.949997</td>\n",
       "      <td>108.099998</td>\n",
       "      <td>108.090752</td>\n",
       "      <td>268283700</td>\n",
       "    </tr>\n",
       "    <tr>\n",
       "      <th>2024-09-11</th>\n",
       "      <td>109.389999</td>\n",
       "      <td>117.190002</td>\n",
       "      <td>107.419998</td>\n",
       "      <td>116.910004</td>\n",
       "      <td>116.900002</td>\n",
       "      <td>441422400</td>\n",
       "    </tr>\n",
       "    <tr>\n",
       "      <th>2024-09-12</th>\n",
       "      <td>116.839996</td>\n",
       "      <td>120.790001</td>\n",
       "      <td>115.379997</td>\n",
       "      <td>119.139999</td>\n",
       "      <td>119.139999</td>\n",
       "      <td>367100500</td>\n",
       "    </tr>\n",
       "    <tr>\n",
       "      <th>2024-09-13</th>\n",
       "      <td>119.080002</td>\n",
       "      <td>119.959999</td>\n",
       "      <td>117.599998</td>\n",
       "      <td>119.099998</td>\n",
       "      <td>119.099998</td>\n",
       "      <td>238358300</td>\n",
       "    </tr>\n",
       "  </tbody>\n",
       "</table>\n",
       "<p>6289 rows × 6 columns</p>\n",
       "</div>"
      ],
      "text/plain": [
       "                  Open        High         Low       Close   Adj Close  \\\n",
       "Date                                                                     \n",
       "1999-09-16    0.051563    0.052083    0.050260    0.050911    0.046693   \n",
       "1999-09-17    0.050586    0.051042    0.048958    0.050781    0.046574   \n",
       "1999-09-20    0.049870    0.050521    0.048958    0.048958    0.044902   \n",
       "1999-09-21    0.047917    0.048177    0.043620    0.044271    0.040603   \n",
       "1999-09-22    0.044271    0.045573    0.041667    0.045313    0.041559   \n",
       "...                ...         ...         ...         ...         ...   \n",
       "2024-09-09  104.879997  106.550003  103.690002  106.470001  106.460892   \n",
       "2024-09-10  107.809998  109.400002  104.949997  108.099998  108.090752   \n",
       "2024-09-11  109.389999  117.190002  107.419998  116.910004  116.900002   \n",
       "2024-09-12  116.839996  120.790001  115.379997  119.139999  119.139999   \n",
       "2024-09-13  119.080002  119.959999  117.599998  119.099998  119.099998   \n",
       "\n",
       "               Volume  \n",
       "Date                   \n",
       "1999-09-16  158112000  \n",
       "1999-09-17  171648000  \n",
       "1999-09-20  229104000  \n",
       "1999-09-21  737328000  \n",
       "1999-09-22  375984000  \n",
       "...               ...  \n",
       "2024-09-09  273912000  \n",
       "2024-09-10  268283700  \n",
       "2024-09-11  441422400  \n",
       "2024-09-12  367100500  \n",
       "2024-09-13  238358300  \n",
       "\n",
       "[6289 rows x 6 columns]"
      ]
     },
     "execution_count": 5,
     "metadata": {},
     "output_type": "execute_result"
    }
   ],
   "source": [
    "# Importing Nvidia stock from yahoo finance\n",
    "Nvidia = yf.download(\"NVDA\", start=\"1999-09-16\", end=\"2024-09-16\")\n",
    "Nvidia"
   ]
  },
  {
   "cell_type": "code",
   "execution_count": null,
   "id": "73e68bc6",
   "metadata": {},
   "outputs": [],
   "source": []
  }
 ],
 "metadata": {
  "kernelspec": {
   "display_name": "Python 3 (ipykernel)",
   "language": "python",
   "name": "python3"
  },
  "language_info": {
   "codemirror_mode": {
    "name": "ipython",
    "version": 3
   },
   "file_extension": ".py",
   "mimetype": "text/x-python",
   "name": "python",
   "nbconvert_exporter": "python",
   "pygments_lexer": "ipython3",
   "version": "3.9.13"
  }
 },
 "nbformat": 4,
 "nbformat_minor": 5
}
